{
 "cells": [
  {
   "cell_type": "code",
   "execution_count": 55,
   "metadata": {},
   "outputs": [],
   "source": [
    "def find_second_maximum(nums):\n",
    "    if len(nums) < 2:\n",
    "        return None  # Not enough elements to determine a second maximum\n",
    "\n",
    "    # Initialize pointers and values\n",
    "    maximum = max(nums[0], nums[1])\n",
    "    second_maximum = min(nums[0], nums[1])\n",
    "    \n",
    "    # Initialize the two pointers\n",
    "    left = 2\n",
    "    right = len(nums) - 1\n",
    "\n",
    "    while left <= right:\n",
    "        # Check potential new values from the left pointer\n",
    "        if nums[left] > maximum:\n",
    "            second_maximum = maximum\n",
    "            maximum = nums[left]\n",
    "        elif nums[left] > second_maximum:\n",
    "            second_maximum = nums[left]\n",
    "        \n",
    "        # Check if right pointer is at a different position and then check those values\n",
    "        if left != right:\n",
    "            if nums[right] > maximum:\n",
    "                second_maximum = maximum\n",
    "                maximum = nums[right]\n",
    "            elif nums[right] > second_maximum:\n",
    "                second_maximum = nums[right]\n",
    "\n",
    "        # Move the left pointer up and the right pointer down\n",
    "        left += 1\n",
    "        right -= 1\n",
    "\n",
    "    return second_maximum"
   ]
  },
  {
   "cell_type": "code",
   "execution_count": 56,
   "metadata": {},
   "outputs": [
    {
     "name": "stdout",
     "output_type": "stream",
     "text": [
      "1.\tList: [9, 2, 3, 6]\n",
      "\n",
      "\tSecond maximum value: 6\n",
      "----------------------------------------------------------------------------------------------------\n",
      "2.\tList: [1, 2]\n",
      "\n",
      "\tSecond maximum value: 1\n",
      "----------------------------------------------------------------------------------------------------\n",
      "3.\tList: [-2, 2]\n",
      "\n",
      "\tSecond maximum value: -2\n",
      "----------------------------------------------------------------------------------------------------\n",
      "4.\tList: [-4, -1, -9, 1, -7]\n",
      "\n",
      "\tSecond maximum value: -1\n",
      "----------------------------------------------------------------------------------------------------\n",
      "5.\tList: [25, 50, 75, 100, 100]\n",
      "\n",
      "\tSecond maximum value: 100\n",
      "----------------------------------------------------------------------------------------------------\n"
     ]
    }
   ],
   "source": [
    "inputs = [[9, 2, 3, 6],\n",
    "        [1, 2],\n",
    "        [-2, 2],\n",
    "        [-4, -1, -9, 1, -7],\n",
    "        [25, 50, 75, 100, 100]]\n",
    "\n",
    "for i in range(len(inputs)):\n",
    "    print(i + 1, \".\\tList: \", inputs[i], sep=\"\")\n",
    "    print(\"\\n\\tSecond maximum value: \", find_second_maximum(inputs[i]), sep=\"\")\n",
    "    print(\"-\" * 100)"
   ]
  },
  {
   "cell_type": "code",
   "execution_count": 1,
   "metadata": {},
   "outputs": [],
   "source": [
    "def find_second_maximum(nums):\n",
    "    first_max = second_max = float('-inf')\n",
    "   \n",
    "    for i in range(len(nums)):\n",
    "        if (nums[i] > first_max):\n",
    "            second_max = first_max\n",
    "            first_max = nums[i]\n",
    "       \n",
    "        # If the current number is greater than the second maximum and not equal to first_max\n",
    "        elif (nums[i] != first_max and nums[i] > second_max):\n",
    "            second_max = nums[i]\n",
    "   \n",
    "    return second_max"
   ]
  },
  {
   "cell_type": "code",
   "execution_count": 2,
   "metadata": {},
   "outputs": [
    {
     "name": "stdout",
     "output_type": "stream",
     "text": [
      "1.\tList: [9, 2, 3, 6]\n",
      "\n",
      "\tSecond maximum value: 6\n",
      "----------------------------------------------------------------------------------------------------\n",
      "2.\tList: [1, 2]\n",
      "\n",
      "\tSecond maximum value: 1\n",
      "----------------------------------------------------------------------------------------------------\n",
      "3.\tList: [-2, 2]\n",
      "\n",
      "\tSecond maximum value: -2\n",
      "----------------------------------------------------------------------------------------------------\n",
      "4.\tList: [-4, -1, -9, 1, -7]\n",
      "\n",
      "\tSecond maximum value: -1\n",
      "----------------------------------------------------------------------------------------------------\n",
      "5.\tList: [25, 50, 75, 100, 100]\n",
      "\n",
      "\tSecond maximum value: 75\n",
      "----------------------------------------------------------------------------------------------------\n"
     ]
    }
   ],
   "source": [
    "inputs = [[9, 2, 3, 6],\n",
    "        [1, 2],\n",
    "        [-2, 2],\n",
    "        [-4, -1, -9, 1, -7],\n",
    "        [25, 50, 75, 100, 100]]\n",
    "\n",
    "for i in range(len(inputs)):\n",
    "    print(i + 1, \".\\tList: \", inputs[i], sep=\"\")\n",
    "    print(\"\\n\\tSecond maximum value: \", find_second_maximum(inputs[i]), sep=\"\")\n",
    "    print(\"-\" * 100)"
   ]
  },
  {
   "cell_type": "code",
   "execution_count": null,
   "metadata": {},
   "outputs": [],
   "source": []
  }
 ],
 "metadata": {
  "kernelspec": {
   "display_name": ".venv",
   "language": "python",
   "name": "python3"
  },
  "language_info": {
   "codemirror_mode": {
    "name": "ipython",
    "version": 3
   },
   "file_extension": ".py",
   "mimetype": "text/x-python",
   "name": "python",
   "nbconvert_exporter": "python",
   "pygments_lexer": "ipython3",
   "version": "3.10.13"
  }
 },
 "nbformat": 4,
 "nbformat_minor": 2
}
