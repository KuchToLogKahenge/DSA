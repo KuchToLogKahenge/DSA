{
 "cells": [
  {
   "cell_type": "code",
   "execution_count": 1,
   "metadata": {},
   "outputs": [],
   "source": [
    "def find_sum(nums: list, k:int):\n",
    "    i = 0\n",
    "\n",
    "    for i in range(len(nums)):\n",
    "        j = 1\n",
    "        while j < len(nums):\n",
    "            if nums[i] + nums[j] == k:\n",
    "                return [nums[i], nums[j]]\n",
    "            else:\n",
    "                j += 1\n",
    "    \n",
    "    return -1"
   ]
  },
  {
   "cell_type": "code",
   "execution_count": 2,
   "metadata": {},
   "outputs": [
    {
     "name": "stdout",
     "output_type": "stream",
     "text": [
      "1.\tArray: [1, 2, 3, 4]\n",
      "\tk: 5\n",
      "\n",
      "\tResult: [1, 4]\n",
      "----------------------------------------------------------------------------------------------------\n",
      "2.\tArray: [1, 2]\n",
      "\tk: 3\n",
      "\n",
      "\tResult: [1, 2]\n",
      "----------------------------------------------------------------------------------------------------\n",
      "3.\tArray: [2, 2]\n",
      "\tk: 4\n",
      "\n",
      "\tResult: [2, 2]\n",
      "----------------------------------------------------------------------------------------------------\n",
      "4.\tArray: [-4, -1, -9, 1, -7]\n",
      "\tk: -3\n",
      "\n",
      "\tResult: [-4, 1]\n",
      "----------------------------------------------------------------------------------------------------\n",
      "5.\tArray: [25, 50, 75, 100, 400]\n",
      "\tk: 425\n",
      "\n",
      "\tResult: [25, 400]\n",
      "----------------------------------------------------------------------------------------------------\n"
     ]
    }
   ],
   "source": [
    "inputs = [[1, 2, 3, 4],\n",
    "        [1, 2],\n",
    "        [2, 2],\n",
    "        [-4, -1, -9, 1, -7],\n",
    "        [25, 50, 75, 100, 400]]\n",
    "\n",
    "k = [5, 3, 4, -3, 425]\n",
    "\n",
    "for i in range(len(inputs)):\n",
    "    print(i + 1, \".\\tArray: \", inputs[i], sep=\"\")\n",
    "    print(\"\\tk: \", k[i], sep=\"\")\n",
    "    print(\"\\n\\tResult: \", find_sum(inputs[i], k[i]), sep=\"\")\n",
    "    print(\"-\" * 100)"
   ]
  },
  {
   "cell_type": "code",
   "execution_count": 3,
   "metadata": {},
   "outputs": [],
   "source": [
    "def find_sum(nums, k):\n",
    "    nums.sort()\n",
    "    \n",
    "    left = 0\n",
    "    right = len(nums) - 1\n",
    "    \n",
    "    result = []\n",
    "    \n",
    "    # Iterate until the pointers meet\n",
    "    while left < right:\n",
    "        # Calculate the sum of the current pair\n",
    "        sum_val = nums[left] + nums[right]\n",
    "        \n",
    "        # If the sum is less than the target sum, move the left pointer to the right\n",
    "        if sum_val < k:\n",
    "            left += 1\n",
    "        # If the sum is greater than the target sum, move the right pointer to the left\n",
    "        elif sum_val > k:\n",
    "            right -= 1\n",
    "        # If the sum equals the target sum, add the pair to the result list and break the loop\n",
    "        else:\n",
    "            result.append(nums[left])\n",
    "            result.append(nums[right])\n",
    "            break  \n",
    "    \n",
    "    return result"
   ]
  },
  {
   "cell_type": "code",
   "execution_count": 4,
   "metadata": {},
   "outputs": [
    {
     "name": "stdout",
     "output_type": "stream",
     "text": [
      "1.\tArray: [1, 2, 3, 4]\n",
      "\tk: 5\n",
      "\n",
      "\tResult: [1, 4]\n",
      "----------------------------------------------------------------------------------------------------\n",
      "2.\tArray: [1, 2]\n",
      "\tk: 3\n",
      "\n",
      "\tResult: [1, 2]\n",
      "----------------------------------------------------------------------------------------------------\n",
      "3.\tArray: [2, 2]\n",
      "\tk: 4\n",
      "\n",
      "\tResult: [2, 2]\n",
      "----------------------------------------------------------------------------------------------------\n",
      "4.\tArray: [-4, -1, -9, 1, -7]\n",
      "\tk: -3\n",
      "\n",
      "\tResult: [-4, 1]\n",
      "----------------------------------------------------------------------------------------------------\n",
      "5.\tArray: [25, 50, 75, 100, 400]\n",
      "\tk: 425\n",
      "\n",
      "\tResult: [25, 400]\n",
      "----------------------------------------------------------------------------------------------------\n"
     ]
    }
   ],
   "source": [
    "inputs = [[1, 2, 3, 4],\n",
    "        [1, 2],\n",
    "        [2, 2],\n",
    "        [-4, -1, -9, 1, -7],\n",
    "        [25, 50, 75, 100, 400]]\n",
    "\n",
    "k = [5, 3, 4, -3, 425]\n",
    "\n",
    "for i in range(len(inputs)):\n",
    "    print(i + 1, \".\\tArray: \", inputs[i], sep=\"\")\n",
    "    print(\"\\tk: \", k[i], sep=\"\")\n",
    "    print(\"\\n\\tResult: \", find_sum(inputs[i], k[i]), sep=\"\")\n",
    "    print(\"-\" * 100)"
   ]
  },
  {
   "cell_type": "code",
   "execution_count": null,
   "metadata": {},
   "outputs": [],
   "source": []
  }
 ],
 "metadata": {
  "kernelspec": {
   "display_name": ".venv",
   "language": "python",
   "name": "python3"
  },
  "language_info": {
   "codemirror_mode": {
    "name": "ipython",
    "version": 3
   },
   "file_extension": ".py",
   "mimetype": "text/x-python",
   "name": "python",
   "nbconvert_exporter": "python",
   "pygments_lexer": "ipython3",
   "version": "3.10.13"
  }
 },
 "nbformat": 4,
 "nbformat_minor": 2
}
