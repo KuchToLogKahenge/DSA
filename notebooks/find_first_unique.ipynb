{
 "cells": [
  {
   "cell_type": "code",
   "execution_count": 9,
   "metadata": {},
   "outputs": [],
   "source": [
    "def find_first_unique(nums):\n",
    "    main_set = set()\n",
    "    unique_set = set()\n",
    "\n",
    "    for item in nums:\n",
    "        if item in unique_set:\n",
    "            unique_set.remove(item)\n",
    "            main_set.add(item)\n",
    "        elif item not in main_set:\n",
    "            unique_set.add(item)\n",
    "\n",
    "    # Return the first unique element by checking the list again\n",
    "    for num in nums:\n",
    "        if num in unique_set:\n",
    "            return num\n",
    "\n",
    "    return None  # If no unique element is found"
   ]
  },
  {
   "cell_type": "code",
   "execution_count": 10,
   "metadata": {},
   "outputs": [
    {
     "name": "stdout",
     "output_type": "stream",
     "text": [
      "1.\tInput list: [9, 2, 3, 2, 6, 6]\n",
      "\n",
      "\tfirst unique number: 9\n",
      "----------------------------------------------------------------------------------------------------\n",
      "2.\tInput list: [-5, -4, -4, 6, -1]\n",
      "\n",
      "\tfirst unique number: -5\n",
      "----------------------------------------------------------------------------------------------------\n",
      "3.\tInput list: [-1, 2, -1, -4, -10]\n",
      "\n",
      "\tfirst unique number: 2\n",
      "----------------------------------------------------------------------------------------------------\n",
      "4.\tInput list: [1, 1, 2, 9]\n",
      "\n",
      "\tfirst unique number: 2\n",
      "----------------------------------------------------------------------------------------------------\n",
      "5.\tInput list: [-2, 2, -2, 2, 5]\n",
      "\n",
      "\tfirst unique number: 5\n",
      "----------------------------------------------------------------------------------------------------\n"
     ]
    }
   ],
   "source": [
    "inputs = [\n",
    "    [9, 2, 3, 2, 6, 6],\n",
    "    [-5, -4, -4, 6, -1],\n",
    "    [-1, 2, -1, -4, -10],\n",
    "    [1, 1, 2, 9],\n",
    "    [-2, 2, -2, 2, 5]\n",
    "]\n",
    "\n",
    "for i in range(len(inputs)):\n",
    "    print(i + 1, \".\\tInput list: \", inputs[i], sep=\"\")\n",
    "    print(\"\\n\\tfirst unique number: \", find_first_unique(inputs[i]), sep=\"\")\n",
    "    print(\"-\" * 100)"
   ]
  },
  {
   "cell_type": "code",
   "execution_count": null,
   "metadata": {},
   "outputs": [],
   "source": []
  }
 ],
 "metadata": {
  "kernelspec": {
   "display_name": ".venv",
   "language": "python",
   "name": "python3"
  },
  "language_info": {
   "codemirror_mode": {
    "name": "ipython",
    "version": 3
   },
   "file_extension": ".py",
   "mimetype": "text/x-python",
   "name": "python",
   "nbconvert_exporter": "python",
   "pygments_lexer": "ipython3",
   "version": "3.10.13"
  }
 },
 "nbformat": 4,
 "nbformat_minor": 2
}
