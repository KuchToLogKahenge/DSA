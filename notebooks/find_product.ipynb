{
 "cells": [
  {
   "cell_type": "code",
   "execution_count": 10,
   "metadata": {},
   "outputs": [],
   "source": [
    "def find_product(nums):\n",
    "\n",
    "    out_list = []\n",
    "    i = 0\n",
    "    \n",
    "    while i < len(nums):\n",
    "        j = 0\n",
    "        product = 1\n",
    "        #print(f'{i=}')\n",
    "        while j < len(nums):\n",
    "            #print(f'{j=}, {product=}')\n",
    "            if j == i:\n",
    "                pass\n",
    "            else:\n",
    "                product = product * nums[j]\n",
    "            j += 1\n",
    "        \n",
    "        out_list.append(product)\n",
    "        i += 1\n",
    "    \n",
    "    return out_list"
   ]
  },
  {
   "cell_type": "code",
   "execution_count": 11,
   "metadata": {},
   "outputs": [
    {
     "name": "stdout",
     "output_type": "stream",
     "text": [
      "1.\tArray: [1, 2, 3, 4]\n",
      "\n",
      "\tList of products: [24, 12, 8, 6]\n",
      "----------------------------------------------------------------------------------------------------\n",
      "2.\tArray: [5, -3, 1, 2]\n",
      "\n",
      "\tList of products: [-6, 10, -30, -15]\n",
      "----------------------------------------------------------------------------------------------------\n",
      "3.\tArray: [2, 2, 2, 0]\n",
      "\n",
      "\tList of products: [0, 0, 0, 8]\n",
      "----------------------------------------------------------------------------------------------------\n",
      "4.\tArray: [0, 0, 0, 0]\n",
      "\n",
      "\tList of products: [0, 0, 0, 0]\n",
      "----------------------------------------------------------------------------------------------------\n",
      "5.\tArray: [-1, -2, -4]\n",
      "\n",
      "\tList of products: [8, 4, 2]\n",
      "----------------------------------------------------------------------------------------------------\n"
     ]
    }
   ],
   "source": [
    "inputs = [\n",
    "    [1, 2, 3, 4],   \n",
    "    [5, -3, 1, 2],   \n",
    "    [2, 2, 2, 0],      \n",
    "    [0, 0, 0, 0],   \n",
    "    [-1, -2, -4]   \n",
    "]\n",
    "\n",
    "for i in range(len(inputs)):\n",
    "    print(i + 1, \".\\tArray: \", inputs[i], sep=\"\")\n",
    "    print(\"\\n\\tList of products: \", find_product(inputs[i]), sep=\"\")\n",
    "    print(\"-\" * 100)"
   ]
  },
  {
   "cell_type": "code",
   "execution_count": 15,
   "metadata": {},
   "outputs": [],
   "source": [
    "def find_product(nums):\n",
    "    i = 0\n",
    "    out_lst = []\n",
    "    for i in range(len(nums)):\n",
    "        if i == 0:\n",
    "            lst = nums[i+1:]\n",
    "            result = 1\n",
    "            for num in lst:\n",
    "                result *= num\n",
    "            out_lst.append(result)\n",
    "        else:\n",
    "            lst = nums[:i] + nums[i+1:]\n",
    "            result = 1\n",
    "            for num in lst:\n",
    "                result *= num\n",
    "            out_lst.append(result)\n",
    "    return out_lst\n"
   ]
  },
  {
   "cell_type": "code",
   "execution_count": 16,
   "metadata": {},
   "outputs": [
    {
     "name": "stdout",
     "output_type": "stream",
     "text": [
      "1.\tArray: [1, 2, 3, 4]\n",
      "\n",
      "\tList of products: [24, 12, 8, 6]\n",
      "----------------------------------------------------------------------------------------------------\n",
      "2.\tArray: [5, -3, 1, 2]\n",
      "\n",
      "\tList of products: [-6, 10, -30, -15]\n",
      "----------------------------------------------------------------------------------------------------\n",
      "3.\tArray: [2, 2, 2, 0]\n",
      "\n",
      "\tList of products: [0, 0, 0, 8]\n",
      "----------------------------------------------------------------------------------------------------\n",
      "4.\tArray: [0, 0, 0, 0]\n",
      "\n",
      "\tList of products: [0, 0, 0, 0]\n",
      "----------------------------------------------------------------------------------------------------\n",
      "5.\tArray: [-1, -2, -4]\n",
      "\n",
      "\tList of products: [8, 4, 2]\n",
      "----------------------------------------------------------------------------------------------------\n"
     ]
    }
   ],
   "source": [
    "inputs = [\n",
    "    [1, 2, 3, 4],   \n",
    "    [5, -3, 1, 2],   \n",
    "    [2, 2, 2, 0],      \n",
    "    [0, 0, 0, 0],   \n",
    "    [-1, -2, -4]   \n",
    "]\n",
    "\n",
    "for i in range(len(inputs)):\n",
    "    print(i + 1, \".\\tArray: \", inputs[i], sep=\"\")\n",
    "    print(\"\\n\\tList of products: \", find_product(inputs[i]), sep=\"\")\n",
    "    print(\"-\" * 100)"
   ]
  },
  {
   "cell_type": "markdown",
   "metadata": {},
   "source": [
    "# Better Approach but can be better"
   ]
  },
  {
   "cell_type": "code",
   "execution_count": 17,
   "metadata": {},
   "outputs": [],
   "source": [
    "def find_product(nums):\n",
    "    total_product = 1\n",
    "    zero_count = 0\n",
    "    \n",
    "    for num in nums:\n",
    "        if num != 0:\n",
    "            total_product *= num\n",
    "        else:\n",
    "            zero_count += 1\n",
    "    \n",
    "    if zero_count > 1:\n",
    "        return [0] * len(nums)\n",
    "    elif zero_count == 1:\n",
    "        return [total_product if num == 0 else 0 for num in nums]\n",
    "    else:\n",
    "        return [total_product // num for num in nums]"
   ]
  },
  {
   "cell_type": "code",
   "execution_count": 18,
   "metadata": {},
   "outputs": [
    {
     "name": "stdout",
     "output_type": "stream",
     "text": [
      "1.\tArray: [1, 2, 3, 4]\n",
      "\n",
      "\tList of products: [24, 12, 8, 6]\n",
      "----------------------------------------------------------------------------------------------------\n",
      "2.\tArray: [5, -3, 1, 2]\n",
      "\n",
      "\tList of products: [-6, 10, -30, -15]\n",
      "----------------------------------------------------------------------------------------------------\n",
      "3.\tArray: [2, 2, 2, 0]\n",
      "\n",
      "\tList of products: [0, 0, 0, 8]\n",
      "----------------------------------------------------------------------------------------------------\n",
      "4.\tArray: [0, 0, 0, 0]\n",
      "\n",
      "\tList of products: [0, 0, 0, 0]\n",
      "----------------------------------------------------------------------------------------------------\n",
      "5.\tArray: [-1, -2, -4]\n",
      "\n",
      "\tList of products: [8, 4, 2]\n",
      "----------------------------------------------------------------------------------------------------\n"
     ]
    }
   ],
   "source": [
    "inputs = [\n",
    "    [1, 2, 3, 4],   \n",
    "    [5, -3, 1, 2],   \n",
    "    [2, 2, 2, 0],      \n",
    "    [0, 0, 0, 0],   \n",
    "    [-1, -2, -4]   \n",
    "]\n",
    "\n",
    "for i in range(len(inputs)):\n",
    "    print(i + 1, \".\\tArray: \", inputs[i], sep=\"\")\n",
    "    print(\"\\n\\tList of products: \", find_product(inputs[i]), sep=\"\")\n",
    "    print(\"-\" * 100)"
   ]
  },
  {
   "cell_type": "markdown",
   "metadata": {},
   "source": [
    "# Best Approach"
   ]
  },
  {
   "cell_type": "code",
   "execution_count": 27,
   "metadata": {},
   "outputs": [],
   "source": [
    "def find_product(nums):\n",
    "    left = 1\n",
    "    product = []\n",
    "    # First pass: Calculate products starting from left\n",
    "    for values in nums:\n",
    "        product.append(left)\n",
    "        left = left * values\n",
    "    #print(f'{product=}')\n",
    "    # Second pass: Update the product list by calculating products from right to left\n",
    "    right = 1\n",
    "    #print(list(range(len(nums)-1, -1, -1)))\n",
    "    for i in range(len(nums)-1, -1, -1):\n",
    "        product[i] = product[i] * right\n",
    "        #print(f'{product[i]=}')\n",
    "        right = right * nums[i]\n",
    "\n",
    "    return product\n"
   ]
  },
  {
   "cell_type": "code",
   "execution_count": 28,
   "metadata": {},
   "outputs": [
    {
     "name": "stdout",
     "output_type": "stream",
     "text": [
      "1.\tArray: [1, 2, 3, 4]\n",
      "\n",
      "\tList of products: [24, 12, 8, 6]\n",
      "----------------------------------------------------------------------------------------------------\n",
      "2.\tArray: [5, -3, 1, 2]\n",
      "\n",
      "\tList of products: [-6, 10, -30, -15]\n",
      "----------------------------------------------------------------------------------------------------\n",
      "3.\tArray: [2, 2, 2, 0]\n",
      "\n",
      "\tList of products: [0, 0, 0, 8]\n",
      "----------------------------------------------------------------------------------------------------\n",
      "4.\tArray: [0, 0, 0, 0]\n",
      "\n",
      "\tList of products: [0, 0, 0, 0]\n",
      "----------------------------------------------------------------------------------------------------\n",
      "5.\tArray: [-1, -2, -4]\n",
      "\n",
      "\tList of products: [8, 4, 2]\n",
      "----------------------------------------------------------------------------------------------------\n"
     ]
    }
   ],
   "source": [
    "inputs = [\n",
    "    [1, 2, 3, 4],   \n",
    "    [5, -3, 1, 2],   \n",
    "    [2, 2, 2, 0],      \n",
    "    [0, 0, 0, 0],   \n",
    "    [-1, -2, -4]   \n",
    "]\n",
    "\n",
    "for i in range(len(inputs)):\n",
    "    print(i + 1, \".\\tArray: \", inputs[i], sep=\"\")\n",
    "    print(\"\\n\\tList of products: \", find_product(inputs[i]), sep=\"\")\n",
    "    print(\"-\" * 100)"
   ]
  },
  {
   "cell_type": "code",
   "execution_count": null,
   "metadata": {},
   "outputs": [],
   "source": []
  }
 ],
 "metadata": {
  "kernelspec": {
   "display_name": ".venv",
   "language": "python",
   "name": "python3"
  },
  "language_info": {
   "codemirror_mode": {
    "name": "ipython",
    "version": 3
   },
   "file_extension": ".py",
   "mimetype": "text/x-python",
   "name": "python",
   "nbconvert_exporter": "python",
   "pygments_lexer": "ipython3",
   "version": "3.10.13"
  }
 },
 "nbformat": 4,
 "nbformat_minor": 2
}
