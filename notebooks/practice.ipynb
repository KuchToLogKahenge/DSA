{
 "cells": [
  {
   "cell_type": "code",
   "execution_count": 7,
   "metadata": {},
   "outputs": [],
   "source": [
    "class Employee:\n",
    "    def __init__(self, ID=None, salary=0, department=None):\n",
    "        self.ID = ID\n",
    "        self.salary = salary\n",
    "        self.department = department"
   ]
  },
  {
   "cell_type": "code",
   "execution_count": 8,
   "metadata": {},
   "outputs": [],
   "source": [
    "Steve = Employee()\n",
    "Mark = Employee(\"3789\", 2500, \"HR\")"
   ]
  },
  {
   "cell_type": "code",
   "execution_count": 9,
   "metadata": {},
   "outputs": [
    {
     "data": {
      "text/plain": [
       "('3789', 2500, 'HR')"
      ]
     },
     "execution_count": 9,
     "metadata": {},
     "output_type": "execute_result"
    }
   ],
   "source": [
    "Mark.ID, Mark.salary, Mark.department"
   ]
  },
  {
   "cell_type": "code",
   "execution_count": 10,
   "metadata": {},
   "outputs": [
    {
     "data": {
      "text/plain": [
       "(None, 0, None)"
      ]
     },
     "execution_count": 10,
     "metadata": {},
     "output_type": "execute_result"
    }
   ],
   "source": [
    "Steve.ID, Steve.salary, Steve.department"
   ]
  },
  {
   "cell_type": "code",
   "execution_count": 11,
   "metadata": {},
   "outputs": [],
   "source": [
    "class Player:\n",
    "    teamName = 'Liverpool' # Class Variable\n",
    "\n",
    "    def __init__(self, name):\n",
    "        self.name = name # creating Instance variable"
   ]
  },
  {
   "cell_type": "code",
   "execution_count": 12,
   "metadata": {},
   "outputs": [],
   "source": [
    "p1 = Player('Mark')\n",
    "p2 = Player('Steve')"
   ]
  },
  {
   "cell_type": "code",
   "execution_count": 13,
   "metadata": {},
   "outputs": [
    {
     "data": {
      "text/plain": [
       "('Liverpool', 'Liverpool', 'Mark', 'Steve')"
      ]
     },
     "execution_count": 13,
     "metadata": {},
     "output_type": "execute_result"
    }
   ],
   "source": [
    "p1.teamName, p2.teamName, p1.name, p2.name"
   ]
  },
  {
   "cell_type": "code",
   "execution_count": 14,
   "metadata": {},
   "outputs": [
    {
     "data": {
      "text/plain": [
       "('Liver', 'Liverpool')"
      ]
     },
     "execution_count": 14,
     "metadata": {},
     "output_type": "execute_result"
    }
   ],
   "source": [
    "p1.teamName = 'Liver'\n",
    "p1.teamName, p2.teamName"
   ]
  },
  {
   "cell_type": "code",
   "execution_count": 17,
   "metadata": {},
   "outputs": [
    {
     "name": "stdout",
     "output_type": "stream",
     "text": [
      "Name: Mark\n",
      "Team Name: Liver\n",
      "['Team1', 'Barcelona', 'Chelsea']\n",
      "Name: Steve\n",
      "Team Name: Liverpool\n",
      "['Team1', 'Barcelona', 'Chelsea']\n"
     ]
    }
   ],
   "source": [
    "class Player:\n",
    "    formerTeams = ['Team1']  # class variables - mutable\n",
    "    teamName = 'Liverpool' # class variable - immutable\n",
    "    def __init__(self, name):\n",
    "        self.name = name  # creating instance variables\n",
    "\n",
    "\n",
    "p1 = Player('Mark')\n",
    "p2 = Player('Steve')\n",
    "\n",
    "p1 = Player('Mark')\n",
    "p1.formerTeams.append('Barcelona') # wrong use of class variable\n",
    "p1.teamName = 'Liver'\n",
    "p2 = Player('Steve')\n",
    "p2.formerTeams.append('Chelsea') # wrong use of class variable\n",
    "\n",
    "print(\"Name:\", p1.name)\n",
    "print(\"Team Name:\", p1.teamName)\n",
    "print(p1.formerTeams)\n",
    "print(\"Name:\", p2.name)\n",
    "print(\"Team Name:\", p2.teamName)\n",
    "print(p2.formerTeams)"
   ]
  },
  {
   "cell_type": "code",
   "execution_count": 18,
   "metadata": {},
   "outputs": [
    {
     "name": "stdout",
     "output_type": "stream",
     "text": [
      "Name: Mark\n",
      "Team Name: Liverpool\n",
      "['Barcelona']\n",
      "Name: Steve\n",
      "Team Name: Liverpool\n",
      "['Chelsea']\n"
     ]
    }
   ],
   "source": [
    "class Player:\n",
    "    teamName = 'Liverpool'  # class variables\n",
    "\n",
    "    def __init__(self, name):\n",
    "        self.name = name  # creating instance variables\n",
    "        self.formerTeams = []\n",
    "\n",
    "\n",
    "p1 = Player('Mark')\n",
    "p1.formerTeams.append('Barcelona')\n",
    "p2 = Player('Steve')\n",
    "p2.formerTeams.append('Chelsea')\n",
    "\n",
    "print(\"Name:\", p1.name)\n",
    "print(\"Team Name:\", p1.teamName)\n",
    "print(p1.formerTeams)\n",
    "print(\"Name:\", p2.name)\n",
    "print(\"Team Name:\", p2.teamName)\n",
    "print(p2.formerTeams)"
   ]
  },
  {
   "cell_type": "code",
   "execution_count": 19,
   "metadata": {},
   "outputs": [
    {
     "name": "stdout",
     "output_type": "stream",
     "text": [
      "Name: Mark\n",
      "Team Members:\n",
      "['Mark', 'Steve']\n",
      "\n",
      "Name: Steve\n",
      "Team Members:\n",
      "['Mark', 'Steve']\n"
     ]
    }
   ],
   "source": [
    "class Player:\n",
    "    teamName = 'Liverpool'      # class variables\n",
    "    teamMembers = []\n",
    "\n",
    "    def __init__(self, name):\n",
    "        self.name = name        # creating instance variables\n",
    "        self.formerTeams = []\n",
    "        self.teamMembers.append(self.name)\n",
    "\n",
    "\n",
    "p1 = Player('Mark')\n",
    "p2 = Player('Steve')\n",
    "\n",
    "print(\"Name:\", p1.name)\n",
    "print(\"Team Members:\")\n",
    "print(p1.teamMembers)\n",
    "print(\"\")\n",
    "print(\"Name:\", p2.name)\n",
    "print(\"Team Members:\")\n",
    "print(p2.teamMembers)"
   ]
  },
  {
   "cell_type": "code",
   "execution_count": 25,
   "metadata": {},
   "outputs": [
    {
     "name": "stdout",
     "output_type": "stream",
     "text": [
      "ID: 3789 \n",
      "Salary: 2500 \n",
      "Department: HR \n",
      "Tax paid by Steve: 500.0 \n",
      "Salary per day of Steve: 83.33333333333333\n"
     ]
    }
   ],
   "source": [
    "class Employee:\n",
    "    # Initializer\n",
    "    def __init__(self, ID=None, salary=None, department=None):\n",
    "        self.ID = ID\n",
    "        self.salary = salary\n",
    "        self.department = department\n",
    "\n",
    "    def tax(self):\n",
    "        return (self.salary * 0.2)\n",
    "    \n",
    "    def salaryPerDay(self):\n",
    "        return (self.salary / 30)\n",
    "\n",
    "Steve = Employee(3789, 2500, \"HR\")\n",
    "\n",
    "print(f'ID: {Steve.ID} \\nSalary: {Steve.salary} \\nDepartment: {Steve.department} \\nTax paid by Steve: {Steve.tax()} \\nSalary per day of Steve: {Steve.salaryPerDay()}')"
   ]
  },
  {
   "cell_type": "code",
   "execution_count": 1,
   "metadata": {},
   "outputs": [
    {
     "name": "stdout",
     "output_type": "stream",
     "text": [
      "Demo 1\n",
      "a = 1\n",
      "b = 2\n",
      "c = 3\n",
      "d = 5\n",
      "e = None\n",
      "\n",
      "\n",
      "Demo 2\n",
      "a = 1\n",
      "b = 2\n",
      "c = 3\n",
      "d = 4\n",
      "e = None\n",
      "\n",
      "\n",
      "Demo 3\n",
      "a = 1\n",
      "b = 2\n",
      "c = 3\n",
      "d = 4\n",
      "e = 5\n"
     ]
    }
   ],
   "source": [
    "class Employee:\n",
    "    # defining the properties and assigning them None to the\n",
    "    def __init__(self, ID=None, salary=None, department=None):\n",
    "        self.ID = ID\n",
    "        self.salary = salary\n",
    "        self.department = department\n",
    "\n",
    "    # method overloading\n",
    "    def demo(self, a, b, c, d=5, e=None):\n",
    "        print(\"a =\", a)\n",
    "        print(\"b =\", b)\n",
    "        print(\"c =\", c)\n",
    "        print(\"d =\", d)\n",
    "        print(\"e =\", e)\n",
    "\n",
    "    def tax(self, title=None):\n",
    "        return (self.salary * 0.2)\n",
    "\n",
    "    def salaryPerDay(self):\n",
    "        return (self.salary / 30)\n",
    "\n",
    "\n",
    "# cerating an object of the Employee class\n",
    "Steve = Employee()\n",
    "\n",
    "# Printing properties of Steve\n",
    "print(\"Demo 1\")\n",
    "Steve.demo(1, 2, 3)\n",
    "print(\"\\n\")\n",
    "\n",
    "print(\"Demo 2\")\n",
    "Steve.demo(1, 2, 3, 4)\n",
    "print(\"\\n\")\n",
    "\n",
    "print(\"Demo 3\")\n",
    "Steve.demo(1, 2, 3, 4, 5)"
   ]
  },
  {
   "cell_type": "code",
   "execution_count": 13,
   "metadata": {},
   "outputs": [],
   "source": [
    "def twoSum(nums, target):\n",
    "    \n",
    "    nums_hash = {}\n",
    "    print(type(nums_hash))\n",
    "    for i, num in enumerate(nums):\n",
    "        potentialMatch = target - num\n",
    "        if potentialMatch in nums_hash:\n",
    "            return [nums_hash[potentialMatch], i]\n",
    "        nums_hash[num] = i\n",
    "        "
   ]
  },
  {
   "cell_type": "code",
   "execution_count": 12,
   "metadata": {},
   "outputs": [
    {
     "name": "stdout",
     "output_type": "stream",
     "text": [
      "<class 'dict'>\n",
      "0\n"
     ]
    },
    {
     "data": {
      "text/plain": [
       "[0, 1]"
      ]
     },
     "execution_count": 12,
     "metadata": {},
     "output_type": "execute_result"
    }
   ],
   "source": [
    "nums = [2,7,11,15]\n",
    "target = 9\n",
    "twoSum(nums, target)"
   ]
  },
  {
   "cell_type": "code",
   "execution_count": 16,
   "metadata": {},
   "outputs": [],
   "source": [
    "from collections import Counter\n",
    "\n",
    "def lengthOfLongestSubstring(s: str) -> int:\n",
    "    left = 0\n",
    "    counter = Counter()\n",
    "    longLen = 0\n",
    "    \n",
    "    for right,value in enumerate(s):\n",
    "        [print(right, value)]\n",
    "        counter[value] +=1\n",
    "        while counter[value] > 1:\n",
    "            counter[s[left]] -=1\n",
    "            left +=1\n",
    "        longLen = max(longLen, right-left+1)\n",
    "    \n",
    "    return longLen, counter"
   ]
  },
  {
   "cell_type": "code",
   "execution_count": 17,
   "metadata": {},
   "outputs": [
    {
     "name": "stdout",
     "output_type": "stream",
     "text": [
      "0 a\n",
      "1 b\n",
      "2 c\n",
      "3 d\n",
      "4 e\n",
      "5 f\n",
      "6 f\n"
     ]
    },
    {
     "data": {
      "text/plain": [
       "(6, Counter({'f': 1, 'a': 0, 'b': 0, 'c': 0, 'd': 0, 'e': 0}))"
      ]
     },
     "execution_count": 17,
     "metadata": {},
     "output_type": "execute_result"
    }
   ],
   "source": [
    "lengthOfLongestSubstring('abcdeff')"
   ]
  },
  {
   "cell_type": "code",
   "execution_count": null,
   "metadata": {},
   "outputs": [],
   "source": []
  }
 ],
 "metadata": {
  "kernelspec": {
   "display_name": ".venv",
   "language": "python",
   "name": "python3"
  },
  "language_info": {
   "codemirror_mode": {
    "name": "ipython",
    "version": 3
   },
   "file_extension": ".py",
   "mimetype": "text/x-python",
   "name": "python",
   "nbconvert_exporter": "python",
   "pygments_lexer": "ipython3",
   "version": "3.10.13"
  }
 },
 "nbformat": 4,
 "nbformat_minor": 2
}
