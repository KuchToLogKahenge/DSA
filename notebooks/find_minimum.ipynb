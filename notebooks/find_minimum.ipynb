{
 "cells": [
  {
   "cell_type": "code",
   "execution_count": 10,
   "metadata": {},
   "outputs": [],
   "source": [
    "def find_minimum(lst):\n",
    "    left, right = 0, len(lst) -1\n",
    "    least = lst[left]\n",
    "    \n",
    "    if len(lst) == 1:\n",
    "        least = lst[0] \n",
    "        return least\n",
    "    \n",
    "    while left < right:\n",
    "        if lst[left] < lst[right]:\n",
    "            if least > lst[left]:\n",
    "                least = lst[left]\n",
    "            right -= 1\n",
    "        else:\n",
    "            if least > lst[right]:\n",
    "                least = lst[right]\n",
    "            left += 1\n",
    "\n",
    "    return least"
   ]
  },
  {
   "cell_type": "code",
   "execution_count": 11,
   "metadata": {},
   "outputs": [
    {
     "name": "stdout",
     "output_type": "stream",
     "text": [
      "1.\tInput list: [9]\n",
      "\n",
      "\tMinimum element: 9\n",
      "----------------------------------------------------------------------------------------------------\n",
      "2.\tInput list: [-1, -5, -10, -2, -4]\n",
      "\n",
      "\tMinimum element: -10\n",
      "----------------------------------------------------------------------------------------------------\n",
      "3.\tInput list: [4, 3, 2, 1]\n",
      "\n",
      "\tMinimum element: 1\n",
      "----------------------------------------------------------------------------------------------------\n",
      "4.\tInput list: [2, 3, 3, -1, -1]\n",
      "\n",
      "\tMinimum element: -1\n",
      "----------------------------------------------------------------------------------------------------\n",
      "5.\tInput list: [100, 50, 75, 25, 400]\n",
      "\n",
      "\tMinimum element: 25\n",
      "----------------------------------------------------------------------------------------------------\n"
     ]
    }
   ],
   "source": [
    "inputs = [\n",
    "    [9],\n",
    "    [-1, -5, -10, -2, -4],\n",
    "    [4, 3, 2, 1],\n",
    "    [2, 3, 3, -1, -1],\n",
    "    [100, 50, 75, 25, 400]\n",
    "        \n",
    "]\n",
    "\n",
    "for i in range(len(inputs)):\n",
    "    print(i + 1, \".\\tInput list: \", inputs[i], sep=\"\")\n",
    "    print(\"\\n\\tMinimum element: \", find_minimum(inputs[i]), sep=\"\")\n",
    "    print(\"-\" * 100)"
   ]
  },
  {
   "cell_type": "code",
   "execution_count": null,
   "metadata": {},
   "outputs": [],
   "source": []
  }
 ],
 "metadata": {
  "kernelspec": {
   "display_name": ".venv",
   "language": "python",
   "name": "python3"
  },
  "language_info": {
   "codemirror_mode": {
    "name": "ipython",
    "version": 3
   },
   "file_extension": ".py",
   "mimetype": "text/x-python",
   "name": "python",
   "nbconvert_exporter": "python",
   "pygments_lexer": "ipython3",
   "version": "3.10.13"
  }
 },
 "nbformat": 4,
 "nbformat_minor": 2
}
